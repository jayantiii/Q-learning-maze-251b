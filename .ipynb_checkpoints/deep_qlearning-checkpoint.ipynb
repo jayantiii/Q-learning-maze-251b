{
 "cells": [
  {
   "cell_type": "code",
   "execution_count": 1,
   "metadata": {},
   "outputs": [],
   "source": [
    "import numpy as np\n",
    "import scipy.special as sp\n",
    "\n",
    "from IPython.display import display, clear_output\n",
    "import matplotlib.pyplot as plt\n",
    "import copy\n",
    "import time\n",
    "import random\n",
    "\n",
    "import torch\n",
    "import torch.nn as nn\n",
    "import torch.optim as optim\n",
    "import collections"
   ]
  },
  {
   "cell_type": "markdown",
   "metadata": {},
   "source": [
    "**Introduce experience replay.**"
   ]
  },
  {
   "cell_type": "code",
   "execution_count": 2,
   "metadata": {},
   "outputs": [],
   "source": [
    "Transition = collections.namedtuple('Experience',\n",
    "                                    field_names=['state', 'action',\n",
    "                                                 'next_state', 'reward',\n",
    "                                                 'is_game_on'])\n",
    "\n",
    "class ExperienceReplay:\n",
    "    def __init__(self, capacity):\n",
    "        self.capacity = capacity\n",
    "        self.memory = collections.deque(maxlen=capacity)\n",
    "\n",
    "    def __len__(self):\n",
    "        return len(self.memory)\n",
    "\n",
    "    def push(self, transition):\n",
    "        self.memory.append(transition)\n",
    "\n",
    "    def sample(self, batch_size, device='cuda'):\n",
    "        indices = np.random.choice(len(self.memory), batch_size, replace=False)\n",
    "        states, actions, next_states, rewards, isgameon = zip(*[self.memory[idx] for idx in indices])\n",
    "    \n",
    "        # Convert lists to numpy arrays before creating tensors\n",
    "        states = np.array(states)\n",
    "        next_states = np.array(next_states)\n",
    "    \n",
    "        # Move to the correct device\n",
    "        states = torch.tensor(states, dtype=torch.float).to(device)\n",
    "        next_states = torch.tensor(next_states, dtype=torch.float).to(device)\n",
    "        actions = torch.tensor(actions, dtype=torch.long).to(device)\n",
    "        rewards = torch.tensor(rewards, dtype=torch.float).to(device)\n",
    "        isgameon = torch.tensor(isgameon, dtype=torch.bool).to(device)\n",
    "    \n",
    "        return states, actions, next_states, rewards, isgameon\n"
   ]
  },
  {
   "cell_type": "markdown",
   "metadata": {},
   "source": [
    "**Networks definition.**"
   ]
  },
  {
   "cell_type": "code",
   "execution_count": 3,
   "metadata": {},
   "outputs": [],
   "source": [
    "class fc_nn(nn.Module):\n",
    "    def __init__(self, Ni, Nh1, Nh2, No = 4):\n",
    "        super().__init__()\n",
    "        \n",
    "        self.fc1 = nn.Linear(Ni, Nh1)\n",
    "        self.fc2 = nn.Linear(Nh1, Nh2)\n",
    "        self.fc3 = nn.Linear(Nh2, No)\n",
    "        \n",
    "        self.act = nn.ReLU()\n",
    "        \n",
    "    def forward(self, x, classification = False, additional_out=False):\n",
    "        x = self.act(self.fc1(x))\n",
    "        x = self.act(self.fc2(x))\n",
    "        out = self.fc3(x)\n",
    "        \n",
    "        return out"
   ]
  },
  {
   "cell_type": "code",
   "execution_count": 4,
   "metadata": {},
   "outputs": [],
   "source": [
    "class conv_nn(nn.Module):\n",
    "    \n",
    "    channels = [16, 32, 64]\n",
    "    kernels = [3, 3, 3]\n",
    "    strides = [1, 1, 1]\n",
    "    in_channels = 1\n",
    "    \n",
    "    def __init__(self, rows, cols, n_act):\n",
    "        super().__init__()\n",
    "        self.rows = rows\n",
    "        self.cols = cols\n",
    "\n",
    "        self.conv = nn.Sequential(nn.Conv2d(in_channels = self.in_channels,\n",
    "                                            out_channels = self.channels[0],\n",
    "                                            kernel_size = self.kernels[0],\n",
    "                                            stride = self.strides[0]),\n",
    "                                  nn.ReLU(),\n",
    "                                  nn.Conv2d(in_channels = self.channels[0],\n",
    "                                            out_channels = self.channels[1],\n",
    "                                            kernel_size = self.kernels[1],\n",
    "                                            stride = self.strides[1]),\n",
    "                                  nn.ReLU()\n",
    "                                 )\n",
    "        \n",
    "        size_out_conv = self.get_conv_size(rows, cols)\n",
    "        \n",
    "        self.linear = nn.Sequential(nn.Linear(size_out_conv, rows*cols*2),\n",
    "                                    nn.ReLU(),\n",
    "                                    nn.Linear(rows*cols*2, int(rows*cols/2)),\n",
    "                                    nn.ReLU(),\n",
    "                                    nn.Linear(int(rows*cols/2), n_act),\n",
    "                                   )\n",
    "\n",
    "    def forward(self, x):\n",
    "        x = x.view(len(x), self.in_channels, self.rows, self.cols)\n",
    "        out_conv = self.conv(x).view(len(x),-1)\n",
    "        out_lin = self.linear(out_conv)\n",
    "        return out_lin\n",
    "    \n",
    "    def get_conv_size(self, x, y):\n",
    "        out_conv = self.conv(torch.zeros(1,self.in_channels, x, y))\n",
    "        return int(np.prod(out_conv.size()))"
   ]
  },
  {
   "cell_type": "code",
   "execution_count": 5,
   "metadata": {},
   "outputs": [],
   "source": [
    "# def Qloss(batch, net, gamma=0.99, device=\"cuda\"):\n",
    "#     states, actions, next_states, rewards, _ = batch\n",
    "\n",
    "#     # Ensure that all tensors are on the correct device\n",
    "#     states = states.to(device)  # Move states to the correct device\n",
    "#     next_states = next_states.to(device)  # Move next_states to the correct device\n",
    "#     actions = actions.to(device)  # Move actions to the correct device\n",
    "#     rewards = rewards.to(device)  # Move rewards to the correct device\n",
    "\n",
    "#     lbatch = len(states)\n",
    "\n",
    "#     # Forward pass\n",
    "#     state_action_values = net(states.view(lbatch, -1)) if not USE_MASKED_Q_LEARNING else net(states)\n",
    "#     state_action_values = state_action_values.gather(1, actions.unsqueeze(-1))\n",
    "#     state_action_values = state_action_values.squeeze(-1)\n",
    "\n",
    "#     # Compute next state values\n",
    "#     next_state_values = net(next_states.view(lbatch, -1)) if not USE_MASKED_Q_LEARNING else net(next_states)\n",
    "#     next_state_values = next_state_values.max(1)[0]\n",
    "\n",
    "#     next_state_values = next_state_values.detach()\n",
    "\n",
    "#     # Compute expected Q values\n",
    "#     expected_state_action_values = next_state_values * gamma + rewards\n",
    "\n",
    "#     # Compute and return the loss\n",
    "#     return nn.MSELoss()(state_action_values, expected_state_action_values)\n",
    "\n",
    "def Qloss(batch, net, gamma=0.99, device=\"cuda\"):\n",
    "    states, actions, next_states, rewards, _ = batch\n",
    "\n",
    "    # Ensure that all tensors are on the correct device\n",
    "    states = states.to(device)\n",
    "    next_states = next_states.to(device)\n",
    "    actions = actions.to(device)\n",
    "    rewards = rewards.to(device)\n",
    "\n",
    "    # Debugging: Check the shape of the states before passing to the model\n",
    "    print(f\"States shape before flattening: {states.shape}\")\n",
    "    \n",
    "    lbatch = len(states)\n",
    "\n",
    "    # Flatten the input (states) to match the model's input size\n",
    "    states = states.view(lbatch, -1)\n",
    "    next_states = next_states.view(lbatch, -1)\n",
    "\n",
    "    # Debugging: Check the shape after flattening\n",
    "    print(f\"States shape after flattening: {states.shape}\")\n",
    "\n",
    "    # Ensure the model is on the correct device\n",
    "    net.to(device)\n",
    "\n",
    "    # Forward pass through the model\n",
    "    state_action_values = net(states) if not USE_MASKED_Q_LEARNING else net(states)\n",
    "    state_action_values = state_action_values.gather(1, actions.unsqueeze(-1))\n",
    "    state_action_values = state_action_values.squeeze(-1)\n",
    "\n",
    "    # Compute next state values\n",
    "    next_state_values = net(next_states)\n",
    "    next_state_values = next_state_values.max(1)[0]\n",
    "    next_state_values = next_state_values.detach()\n",
    "\n",
    "    # Compute expected Q values\n",
    "    expected_state_action_values = next_state_values * gamma + rewards\n",
    "\n",
    "    # Compute and return the loss\n",
    "    return nn.MSELoss()(state_action_values, expected_state_action_values)\n"
   ]
  },
  {
   "cell_type": "markdown",
   "metadata": {},
   "source": [
    "**Import the maze and define the environment.**"
   ]
  },
  {
   "cell_type": "code",
   "execution_count": 6,
   "metadata": {},
   "outputs": [],
   "source": [
    "from environment import MazeEnvironment\n",
    "\n",
    "maze = np.load('maze_generator/maze.npy')\n",
    "\n",
    "initial_position = [0,0]\n",
    "goal = [len(maze)-1, len(maze)-1]\n",
    "\n",
    "#maze_env = MazeEnvironment(maze, initial_position, goal)\n",
    "USE_MASKED_Q_LEARNING = True\n",
    "maze_env = MazeEnvironment(maze, initial_position, goal, masked=USE_MASKED_Q_LEARNING)\n"
   ]
  },
  {
   "cell_type": "code",
   "execution_count": 7,
   "metadata": {},
   "outputs": [
    {
     "data": {
      "image/png": "[encoded data removed]",
      "text/plain": [
       "<Figure size 640x480 with 1 Axes>"
      ]
     },
     "metadata": {},
     "output_type": "display_data"
    }
   ],
   "source": [
    "maze_env.draw('maze_20.pdf')"
   ]
  },
  {
   "cell_type": "markdown",
   "metadata": {},
   "source": [
    "**Define the agent and the buffer for experience replay.**"
   ]
  },
  {
   "cell_type": "code",
   "execution_count": 8,
   "metadata": {},
   "outputs": [],
   "source": [
    "buffer_capacity = 10000\n",
    "buffer_start_size = 1000\n",
    "memory_buffer = ExperienceReplay(buffer_capacity)"
   ]
  },
  {
   "cell_type": "code",
   "execution_count": 9,
   "metadata": {},
   "outputs": [],
   "source": [
    "from agent import Agent\n",
    "agent = Agent(maze = maze_env,\n",
    "              memory_buffer = memory_buffer,\n",
    "              use_softmax = True\n",
    "             )"
   ]
  },
  {
   "cell_type": "markdown",
   "metadata": {},
   "source": [
    "** Define the network.**"
   ]
  },
  {
   "cell_type": "code",
   "execution_count": 10,
   "metadata": {},
   "outputs": [],
   "source": [
    "net = fc_nn(maze.size, maze.size, maze.size, 4)\n",
    "optimizer = optim.Adam(net.parameters(), lr=1e-4)"
   ]
  },
  {
   "cell_type": "code",
   "execution_count": 11,
   "metadata": {},
   "outputs": [
    {
     "data": {
      "text/plain": [
       "fc_nn(\n",
       "  (fc1): Linear(in_features=400, out_features=400, bias=True)\n",
       "  (fc2): Linear(in_features=400, out_features=400, bias=True)\n",
       "  (fc3): Linear(in_features=400, out_features=4, bias=True)\n",
       "  (act): ReLU()\n",
       ")"
      ]
     },
     "execution_count": 11,
     "metadata": {},
     "output_type": "execute_result"
    }
   ],
   "source": [
    "device = 'cuda'\n",
    "batch_size = 24\n",
    "# batch_size = 64\n",
    "gamma = 0.9\n",
    "\n",
    "net.to(device)"
   ]
  },
  {
   "cell_type": "markdown",
   "metadata": {},
   "source": [
    "**Define the epsilon profile and plot the resetting probability.**"
   ]
  },
  {
   "cell_type": "code",
   "execution_count": 12,
   "metadata": {},
   "outputs": [
    {
     "name": "stdout",
     "output_type": "stream",
     "text": [
      "[1.         0.99004983 0.98019867 0.97044553 0.96078944 0.95122942\n",
      " 0.94176453 0.93239382 0.92311635 0.91393119 0.90483742 0.89583414\n",
      " 0.88692044 0.87809543 0.86935824 0.86070798 0.85214379 0.84366482\n",
      " 0.83527021 0.82695913 0.81873075 0.81058425 0.8025188  0.7945336\n",
      " 0.78662786 0.77880078 0.77105159 0.76337949 0.75578374 0.74826357\n",
      " 0.74081822 0.73344696 0.72614904 0.71892373 0.71177032 0.70468809\n",
      " 0.69767633 0.69073433 0.68386141 0.67705687 0.67032005 0.66365025\n",
      " 0.65704682 0.65050909 0.64403642 0.63762815 0.63128365 0.62500227\n",
      " 0.61878339 0.61262639 0.60653066 0.60049558 0.59452055 0.58860497\n",
      " 0.58274825 0.57694981 0.57120906 0.56552544 0.55989837 0.55432728\n",
      " 0.54881164 0.54335087 0.53794444 0.5325918  0.52729242 0.52204578\n",
      " 0.51685133 0.51170858 0.50661699 0.50157607 0.4965853  0.4916442\n",
      " 0.48675226 0.48190899 0.47711392 0.47236655 0.46766643 0.46301307\n",
      " 0.45840601 0.4538448  0.44932896 0.44485807 0.44043165 0.43604929\n",
      " 0.43171052 0.42741493 0.42316208 0.41895155 0.41478291 0.41065575\n",
      " 0.40656966 0.40252422 0.39851904 0.39455371 0.39062784 0.38674102\n",
      " 0.38289289 0.37908304 0.3753111  0.37157669 0.36787944 0.36421898\n",
      " 0.36059494 0.35700696 0.35345468 0.34993775 0.34645581 0.34300852\n",
      " 0.33959553 0.33621649 0.33287108 0.32955896 0.32627979 0.32303326\n",
      " 0.31981902 0.31663677 0.31348618 0.31036694 0.30727874 0.30422126\n",
      " 0.30119421 0.29819728 0.29523017 0.29229258 0.28938422 0.2865048\n",
      " 0.28365403 0.28083162 0.2780373  0.27527078 0.27253179 0.26982006\n",
      " 0.2671353  0.26447726 0.26184567 0.25924026 0.25666078 0.25410696\n",
      " 0.25157855 0.2490753  0.24659696 0.24414328 0.24171402 0.23930892\n",
      " 0.23692776 0.23457029 0.23223627 0.22992549 0.22763769 0.22537266]\n"
     ]
    },
    {
     "data": {
      "image/png": "[encoded data removed]",
      "text/plain": [
       "<Figure size 640x480 with 1 Axes>"
      ]
     },
     "metadata": {},
     "output_type": "display_data"
    },
    {
     "data": {
      "image/png": "[encoded data removed]",
      "text/plain": [
       "<Figure size 640x480 with 1 Axes>"
      ]
     },
     "metadata": {},
     "output_type": "display_data"
    }
   ],
   "source": [
    "num_epochs = 150\n",
    "\n",
    "cutoff = 100\n",
    "epsilon = np.exp(-np.arange(num_epochs)/(cutoff))\n",
    "print(epsilon)\n",
    "epsilon[epsilon > epsilon[100*int(num_epochs/cutoff)]] = epsilon[100*int(num_epochs/cutoff)]\n",
    "plt.plot(epsilon, color = 'orangered', ls = '--')\n",
    "plt.xlabel('Epochs')\n",
    "plt.ylabel('Epsilon')\n",
    "plt.savefig('epsilon_profile.pdf', dpi = 300, bbox_inches = 'tight')\n",
    "plt.show()\n",
    "\n",
    "mp = []\n",
    "mpm = []\n",
    "reg = 200\n",
    "for e in epsilon:\n",
    "    a = agent.env.reset_policy(e)\n",
    "    mp.append(np.min(a))\n",
    "    mpm.append(np.max(a))\n",
    "\n",
    "plt.plot(epsilon/1.3, color = 'orangered', ls = '--', alpha = 0.5,\n",
    "         label= 'Epsilon profile (arbitrary units)')\n",
    "\n",
    "plt.plot(np.array(mpm)-np.array(mp), label = 'Probability difference', color = 'cornflowerblue')\n",
    "plt.xlabel('Epochs')\n",
    "plt.ylabel(r'max $p^r$ - min $p^r$')\n",
    "plt.legend()\n",
    "plt.savefig('reset_policy.pdf', dpi = 300, bbox_inches = 'tight')\n",
    "plt.show()"
   ]
  },
  {
   "cell_type": "markdown",
   "metadata": {},
   "source": [
    "**Training the network.**"
   ]
  },
  {
   "cell_type": "code",
   "execution_count": 16,
   "metadata": {
    "scrolled": true
   },
   "outputs": [
    {
     "name": "stdout",
     "output_type": "stream",
     "text": [
      "States shape before flattening: torch.Size([24, 20, 20])\n",
      "States shape after flattening: torch.Size([24, 400])\n",
      "States shape before flattening: torch.Size([24, 20, 20])\n",
      "States shape after flattening: torch.Size([24, 400])\n",
      "States shape before flattening: torch.Size([24, 20, 20])\n",
      "States shape after flattening: torch.Size([24, 400])\n",
      "States shape before flattening: torch.Size([24, 20, 20])\n",
      "States shape after flattening: torch.Size([24, 400])\n",
      "States shape before flattening: torch.Size([24, 20, 20])\n",
      "States shape after flattening: torch.Size([24, 400])\n",
      "States shape before flattening: torch.Size([24, 20, 20])\n",
      "States shape after flattening: torch.Size([24, 400])\n",
      "States shape before flattening: torch.Size([24, 20, 20])\n",
      "States shape after flattening: torch.Size([24, 400])\n",
      "States shape before flattening: torch.Size([24, 20, 20])\n",
      "States shape after flattening: torch.Size([24, 400])\n",
      "States shape before flattening: torch.Size([24, 20, 20])\n",
      "States shape after flattening: torch.Size([24, 400])\n",
      "States shape before flattening: torch.Size([24, 20, 20])\n",
      "States shape after flattening: torch.Size([24, 400])\n",
      "States shape before flattening: torch.Size([24, 20, 20])\n",
      "States shape after flattening: torch.Size([24, 400])\n",
      "States shape before flattening: torch.Size([24, 20, 20])\n",
      "States shape after flattening: torch.Size([24, 400])\n",
      "States shape before flattening: torch.Size([24, 20, 20])\n",
      "States shape after flattening: torch.Size([24, 400])\n",
      "States shape before flattening: torch.Size([24, 20, 20])\n",
      "States shape after flattening: torch.Size([24, 400])\n",
      "States shape before flattening: torch.Size([24, 20, 20])\n",
      "States shape after flattening: torch.Size([24, 400])\n",
      "States shape before flattening: torch.Size([24, 20, 20])\n",
      "States shape after flattening: torch.Size([24, 400])\n",
      "States shape before flattening: torch.Size([24, 20, 20])\n",
      "States shape after flattening: torch.Size([24, 400])\n",
      "States shape before flattening: torch.Size([24, 20, 20])\n",
      "States shape after flattening: torch.Size([24, 400])\n",
      "States shape before flattening: torch.Size([24, 20, 20])\n",
      "States shape after flattening: torch.Size([24, 400])\n",
      "States shape before flattening: torch.Size([24, 20, 20])\n",
      "States shape after flattening: torch.Size([24, 400])\n",
      "States shape before flattening: torch.Size([24, 20, 20])\n",
      "States shape after flattening: torch.Size([24, 400])\n",
      "States shape before flattening: torch.Size([24, 20, 20])\n",
      "States shape after flattening: torch.Size([24, 400])\n",
      "States shape before flattening: torch.Size([24, 20, 20])\n",
      "States shape after flattening: torch.Size([24, 400])\n",
      "States shape before flattening: torch.Size([24, 20, 20])\n",
      "States shape after flattening: torch.Size([24, 400])\n",
      "States shape before flattening: torch.Size([24, 20, 20])\n",
      "States shape after flattening: torch.Size([24, 400])\n",
      "States shape before flattening: torch.Size([24, 20, 20])\n",
      "States shape after flattening: torch.Size([24, 400])\n",
      "States shape before flattening: torch.Size([24, 20, 20])\n",
      "States shape after flattening: torch.Size([24, 400])\n",
      "States shape before flattening: torch.Size([24, 20, 20])\n",
      "States shape after flattening: torch.Size([24, 400])\n",
      "States shape before flattening: torch.Size([24, 20, 20])\n",
      "States shape after flattening: torch.Size([24, 400])\n",
      "States shape before flattening: torch.Size([24, 20, 20])\n",
      "States shape after flattening: torch.Size([24, 400])\n",
      "States shape before flattening: torch.Size([24, 20, 20])\n",
      "States shape after flattening: torch.Size([24, 400])\n",
      "States shape before flattening: torch.Size([24, 20, 20])\n",
      "States shape after flattening: torch.Size([24, 400])\n",
      "States shape before flattening: torch.Size([24, 20, 20])\n",
      "States shape after flattening: torch.Size([24, 400])\n",
      "States shape before flattening: torch.Size([24, 20, 20])\n",
      "States shape after flattening: torch.Size([24, 400])\n",
      "States shape before flattening: torch.Size([24, 20, 20])\n",
      "States shape after flattening: torch.Size([24, 400])\n",
      "States shape before flattening: torch.Size([24, 20, 20])\n",
      "States shape after flattening: torch.Size([24, 400])\n",
      "States shape before flattening: torch.Size([24, 20, 20])\n",
      "States shape after flattening: torch.Size([24, 400])\n",
      "States shape before flattening: torch.Size([24, 20, 20])\n",
      "States shape after flattening: torch.Size([24, 400])\n",
      "States shape before flattening: torch.Size([24, 20, 20])\n",
      "States shape after flattening: torch.Size([24, 400])\n",
      "States shape before flattening: torch.Size([24, 20, 20])\n",
      "States shape after flattening: torch.Size([24, 400])\n",
      "States shape before flattening: torch.Size([24, 20, 20])\n",
      "States shape after flattening: torch.Size([24, 400])\n",
      "States shape before flattening: torch.Size([24, 20, 20])\n",
      "States shape after flattening: torch.Size([24, 400])\n",
      "States shape before flattening: torch.Size([24, 20, 20])\n",
      "States shape after flattening: torch.Size([24, 400])\n",
      "States shape before flattening: torch.Size([24, 20, 20])\n",
      "States shape after flattening: torch.Size([24, 400])\n",
      "States shape before flattening: torch.Size([24, 20, 20])\n",
      "States shape after flattening: torch.Size([24, 400])\n",
      "States shape before flattening: torch.Size([24, 20, 20])\n",
      "States shape after flattening: torch.Size([24, 400])\n",
      "States shape before flattening: torch.Size([24, 20, 20])\n",
      "States shape after flattening: torch.Size([24, 400])\n",
      "States shape before flattening: torch.Size([24, 20, 20])\n",
      "States shape after flattening: torch.Size([24, 400])\n",
      "States shape before flattening: torch.Size([24, 20, 20])\n",
      "States shape after flattening: torch.Size([24, 400])\n",
      "States shape before flattening: torch.Size([24, 20, 20])\n",
      "States shape after flattening: torch.Size([24, 400])\n",
      "States shape before flattening: torch.Size([24, 20, 20])\n",
      "States shape after flattening: torch.Size([24, 400])\n",
      "States shape before flattening: torch.Size([24, 20, 20])\n",
      "States shape after flattening: torch.Size([24, 400])\n",
      "States shape before flattening: torch.Size([24, 20, 20])\n",
      "States shape after flattening: torch.Size([24, 400])\n",
      "States shape before flattening: torch.Size([24, 20, 20])\n",
      "States shape after flattening: torch.Size([24, 400])\n",
      "States shape before flattening: torch.Size([24, 20, 20])\n",
      "States shape after flattening: torch.Size([24, 400])\n",
      "States shape before flattening: torch.Size([24, 20, 20])\n",
      "States shape after flattening: torch.Size([24, 400])\n",
      "States shape before flattening: torch.Size([24, 20, 20])\n",
      "States shape after flattening: torch.Size([24, 400])\n",
      "States shape before flattening: torch.Size([24, 20, 20])\n",
      "States shape after flattening: torch.Size([24, 400])\n",
      "States shape before flattening: torch.Size([24, 20, 20])\n",
      "States shape after flattening: torch.Size([24, 400])\n",
      "States shape before flattening: torch.Size([24, 20, 20])\n",
      "States shape after flattening: torch.Size([24, 400])\n",
      "States shape before flattening: torch.Size([24, 20, 20])\n",
      "States shape after flattening: torch.Size([24, 400])\n",
      "States shape before flattening: torch.Size([24, 20, 20])\n",
      "States shape after flattening: torch.Size([24, 400])\n",
      "States shape before flattening: torch.Size([24, 20, 20])\n",
      "States shape after flattening: torch.Size([24, 400])\n",
      "States shape before flattening: torch.Size([24, 20, 20])\n",
      "States shape after flattening: torch.Size([24, 400])\n",
      "States shape before flattening: torch.Size([24, 20, 20])\n",
      "States shape after flattening: torch.Size([24, 400])\n",
      "States shape before flattening: torch.Size([24, 20, 20])\n",
      "States shape after flattening: torch.Size([24, 400])\n",
      "States shape before flattening: torch.Size([24, 20, 20])\n",
      "States shape after flattening: torch.Size([24, 400])\n",
      "States shape before flattening: torch.Size([24, 20, 20])\n",
      "States shape after flattening: torch.Size([24, 400])\n",
      "States shape before flattening: torch.Size([24, 20, 20])\n",
      "States shape after flattening: torch.Size([24, 400])\n",
      "States shape before flattening: torch.Size([24, 20, 20])\n",
      "States shape after flattening: torch.Size([24, 400])\n",
      "States shape before flattening: torch.Size([24, 20, 20])\n",
      "States shape after flattening: torch.Size([24, 400])\n",
      "States shape before flattening: torch.Size([24, 20, 20])\n",
      "States shape after flattening: torch.Size([24, 400])\n",
      "States shape before flattening: torch.Size([24, 20, 20])\n",
      "States shape after flattening: torch.Size([24, 400])\n",
      "States shape before flattening: torch.Size([24, 20, 20])\n",
      "States shape after flattening: torch.Size([24, 400])\n",
      "States shape before flattening: torch.Size([24, 20, 20])\n",
      "States shape after flattening: torch.Size([24, 400])\n",
      "States shape before flattening: torch.Size([24, 20, 20])\n",
      "States shape after flattening: torch.Size([24, 400])\n",
      "States shape before flattening: torch.Size([24, 20, 20])\n",
      "States shape after flattening: torch.Size([24, 400])\n",
      "States shape before flattening: torch.Size([24, 20, 20])\n",
      "States shape after flattening: torch.Size([24, 400])\n",
      "States shape before flattening: torch.Size([24, 20, 20])\n",
      "States shape after flattening: torch.Size([24, 400])\n",
      "States shape before flattening: torch.Size([24, 20, 20])\n",
      "States shape after flattening: torch.Size([24, 400])\n",
      "Epoch 149 (number of moves 80)\n",
      "Game won\n",
      "[####################################################################################################]\n",
      "\t Average loss: 0.13009\n"
     ]
    }
   ],
   "source": [
    "loss_log = []\n",
    "best_loss = 1e5\n",
    "running_loss = 0\n",
    "\n",
    "# Ensure all tensors are on the correct device (GPU or CPU)\n",
    "device = torch.device(\"cuda\" if torch.cuda.is_available() else \"cpu\")\n",
    "\n",
    "# Move the model to the appropriate device\n",
    "net = net.to(device)\n",
    "\n",
    "\n",
    "for epoch in range(num_epochs):\n",
    "    net.to(device)\n",
    "    loss = 0\n",
    "    counter = 0\n",
    "    eps = epsilon[epoch]\n",
    "    \n",
    "    agent.isgameon = True\n",
    "    _ = agent.env.reset(eps)\n",
    "    \n",
    "    while agent.isgameon:\n",
    "        net.to(device)\n",
    "        # Get state and ensure it's on the correct device\n",
    "        state = agent.get_masked_state(agent.env.current_position) if USE_MASKED_Q_LEARNING else agent.env.state()\n",
    "        state = torch.tensor(np.array(state), dtype=torch.float).to(device)  # Fix: Convert to ndarray before tensor\n",
    "        \n",
    "        # Make the agent perform a move (no device change needed here)\n",
    "        agent.make_a_move(net, epsilon, state)\n",
    "        counter += 1\n",
    "        \n",
    "        # Wait until the buffer has enough samples\n",
    "        if len(agent.buffer) < buffer_start_size:\n",
    "            continue\n",
    "            \n",
    "        # Zero the gradients before the backward pass\n",
    "        optimizer.zero_grad()\n",
    "        \n",
    "        # Sample a batch from the buffer and move to the correct device\n",
    "        batch = agent.buffer.sample(batch_size, device=device)\n",
    "        states, actions, next_states, rewards, _ = batch\n",
    "        \n",
    "        # Ensure all tensors are on the correct device\n",
    "        states = states.to(device)  # Move states to the correct device\n",
    "        next_states = next_states.to(device)  # Move next_states to the correct device\n",
    "        actions = actions.to(device)  # Move actions to the correct device\n",
    "        rewards = rewards.to(device)  # Move rewards to the correct device\n",
    "        \n",
    "        # Compute the loss\n",
    "        loss_t = Qloss(batch, net, gamma=gamma, device=device)\n",
    "        loss_t.backward()\n",
    "        \n",
    "        # Update the model parameters\n",
    "        optimizer.step()\n",
    "\n",
    "        # Add the loss of this batch to the total loss\n",
    "        loss += loss_t.item()\n",
    "    \n",
    "    # Check if the agent has won or lost the game\n",
    "    if (agent.env.current_position == agent.env.goal).all():\n",
    "        result = 'won'\n",
    "    else:\n",
    "        result = 'lost'     # Save the policy map every 1000 epochs\n",
    "    if epoch % 1000 == 0:\n",
    "        agent.plot_policy_map(net, 'sol_epoch_' + str(epoch) + '.pdf', [0.35, -0.3])\n",
    "    \n",
    "    # Log the total loss for this epoch\n",
    "    loss_log.append(loss)\n",
    "    \n",
    "    # Track and save the best model based on the last 50 epochs' average loss\n",
    "    if epoch > 2000:\n",
    "        running_loss = np.mean(loss_log[-50:])\n",
    "        if running_loss < best_loss:\n",
    "            best_loss = running_loss\n",
    "            torch.save(net.state_dict(), \"best.torch\")\n",
    "            estop = epoch\n",
    "    \n",
    "    # Print progress and metrics every epoch\n",
    "    print('Epoch', epoch, '(number of moves ' + str(counter) + ')')\n",
    "    print('Game', result)\n",
    "    print('[' + '#' * (100 - int(100 * (1 - epoch / num_epochs))) +\n",
    "          ' ' * int(100 * (1 - epoch / num_epochs)) + ']')\n",
    "    print('\\t Average loss: ' + f'{loss:.5f}')\n",
    "    if epoch > 2000:\n",
    "        print('\\t Best average loss of the last 50 epochs: ' + f'{best_loss:.5f}' + ', achieved at epoch', estop)\n",
    "    \n",
    "    # Update output display (if running in Jupyter)\n",
    "    clear_output(wait=True)"
   ]
  },
  {
   "cell_type": "code",
   "execution_count": null,
   "metadata": {},
   "outputs": [],
   "source": [
    "torch.save(net.state_dict(), \"net.torch\")"
   ]
  },
  {
   "cell_type": "code",
   "execution_count": null,
   "metadata": {},
   "outputs": [],
   "source": [
    "plt.plot(epsilon*90, alpha = 0.6, ls = '--', label = 'Epsilon profile (arbitrary unit)', color = 'orangered')\n",
    "plt.plot((np.array(mpm)-np.array(mp))*120, alpha = 0.6, ls = '--',\n",
    "         label = 'Probability difference (arbitrary unit)', color = 'dimgray')\n",
    "plt.plot(loss_log, label = 'Loss', color = 'cornflowerblue')\n",
    "plt.xlabel('Epoch')\n",
    "plt.ylabel('MSE')\n",
    "plt.legend()\n",
    "plt.savefig('loss.pdf', dpi = 300, bbox_inches='tight')\n",
    "plt.show()"
   ]
  },
  {
   "cell_type": "markdown",
   "metadata": {},
   "source": [
    "**Show the maze solution and the policy learnt.**"
   ]
  },
  {
   "cell_type": "code",
   "execution_count": null,
   "metadata": {
    "scrolled": true
   },
   "outputs": [],
   "source": [
    "net.eval()\n",
    "agent.isgameon = True\n",
    "agent.use_softmax = False\n",
    "_ = agent.env.reset(0)\n",
    "while agent.isgameon:\n",
    "    agent.make_a_move(net, 0)\n",
    "    agent.env.draw('')\n",
    "    clear_output(wait = True)"
   ]
  },
  {
   "cell_type": "code",
   "execution_count": null,
   "metadata": {},
   "outputs": [],
   "source": [
    "agent.plot_policy_map(net, 'solution.pdf', [0.35,-0.3])"
   ]
  },
  {
   "cell_type": "code",
   "execution_count": null,
   "metadata": {},
   "outputs": [],
   "source": []
  },
  {
   "cell_type": "code",
   "execution_count": null,
   "metadata": {},
   "outputs": [],
   "source": [
    "best_net = copy.deepcopy(net)\n",
    "best_net.load_state_dict(torch.load('net.torch'))"
   ]
  },
  {
   "cell_type": "code",
   "execution_count": null,
   "metadata": {},
   "outputs": [],
   "source": [
    "agent.plot_policy_map(best_net, 'solution_best.pdf', [0.35,-0.3])"
   ]
  },
  {
   "cell_type": "code",
   "execution_count": null,
   "metadata": {},
   "outputs": [],
   "source": []
  },
  {
   "cell_type": "code",
   "execution_count": null,
   "metadata": {},
   "outputs": [],
   "source": []
  }
 ],
 "metadata": {
  "kernelspec": {
   "display_name": "Python 3 (ipykernel)",
   "language": "python",
   "name": "python3"
  },
  "language_info": {
   "codemirror_mode": {
    "name": "ipython",
    "version": 3
   },
   "file_extension": ".py",
   "mimetype": "text/x-python",
   "name": "python",
   "nbconvert_exporter": "python",
   "pygments_lexer": "ipython3",
   "version": "3.11.9"
  }
 },
 "nbformat": 4,
 "nbformat_minor": 4
}
